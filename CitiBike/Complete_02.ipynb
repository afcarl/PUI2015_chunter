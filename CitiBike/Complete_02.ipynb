{
 "cells": [
  {
   "cell_type": "markdown",
   "metadata": {},
   "source": [
    "# Citibike Project\n",
    "---\n",
    "### Authors: Maxwell Feinglass, Clayton Hunter, and Arno Amabile\n",
    "#### October 7th, 2015\n",
    "\n",
    "Using Citibike Data, we want to test the following hypothesis:\n",
    "\n",
    "$H_0$: The probability of a citibike subscriber crossing the East River in a given month is **independent** of whether the trip is taken during rush hour\n",
    "\n",
    "$H_1$: The probability of a citibike subscriber crossing the East River in a given month is **not independent** of whether the trip is taken during rush hour\n",
    "\n",
    "We are testing the hypothesis with Pearson's $\\chi^2$ test of independence. Two points should be noted:\n",
    "    * The month of interest has to be chosen at the beginning of the process\n",
    "    * The process requires the use of the small station_boroughs.csv table"
   ]
  },
  {
   "cell_type": "code",
   "execution_count": 1,
   "metadata": {
    "collapsed": false
   },
   "outputs": [],
   "source": [
    "# Import libraries\n",
    "from zipfile import ZipFile\n",
    "from StringIO import StringIO\n",
    "import urllib2\n",
    "import pandas as pd\n",
    "import datetime\n",
    "import numpy as np\n",
    "import matplotlib.pyplot as plt\n",
    "from scipy.stats import chi2_contingency\n",
    "%matplotlib inline"
   ]
  },
  {
   "cell_type": "code",
   "execution_count": 2,
   "metadata": {
    "collapsed": false
   },
   "outputs": [],
   "source": [
    "# Choice of month of interest\n",
    "month = '08'\n",
    "\n",
    "# Connect to url\n",
    "r = urllib2.urlopen('https://s3.amazonaws.com/tripdata/2015{}-citibike-tripdata.zip'.format(month)).read()\n",
    "\n",
    "# I/O something or other...\n",
    "f = ZipFile(StringIO(r))\n",
    "\n",
    "# Open remote csv file\n",
    "df_csv = f.open(\"2015{}-citibike-tripdata.csv\".format(month))\n",
    "\n",
    "# And read data:\n",
    "df=pd.io.parsers.read_csv(df_csv, parse_dates=['starttime', 'stoptime'])"
   ]
  },
  {
   "cell_type": "code",
   "execution_count": 3,
   "metadata": {
    "collapsed": false
   },
   "outputs": [
    {
     "name": "stdout",
     "output_type": "stream",
     "text": [
      "<class 'pandas.core.frame.DataFrame'>\n",
      "Int64Index: 1179044 entries, 0 to 1179043\n",
      "Data columns (total 4 columns):\n",
      "starttime     1179044 non-null datetime64[ns]\n",
      "stoptime      1179044 non-null datetime64[ns]\n",
      "start_boro    1175376 non-null object\n",
      "end_boro      1175567 non-null object\n",
      "dtypes: datetime64[ns](2), object(2)\n",
      "memory usage: 45.0+ MB\n"
     ]
    }
   ],
   "source": [
    "# Table linking station id and borough\n",
    "stationBoro = pd.read_csv('station_boroughs.csv')\n",
    "\n",
    "# Merge both tables, twice to get the borough of both start and end stations\n",
    "df_m = pd.merge(df, stationBoro, left_on='start station id', right_on='id', how='left')\n",
    "df_m=df_m.rename(columns = {'boro':'start_boro'})\n",
    "\n",
    "df_m = pd.merge(df_m, stationBoro, left_on='end station id', right_on='id', how='left')\n",
    "df_m=df_m.rename(columns = {'boro':'end_boro'})\n",
    "\n",
    "df_m[['starttime', 'stoptime', 'start_boro', 'end_boro']].info() # Check for success"
   ]
  },
  {
   "cell_type": "code",
   "execution_count": 4,
   "metadata": {
    "collapsed": false
   },
   "outputs": [
    {
     "name": "stdout",
     "output_type": "stream",
     "text": [
      "<class 'pandas.core.frame.DataFrame'>\n",
      "Int64Index: 958048 entries, 0 to 1179043\n",
      "Data columns (total 2 columns):\n",
      "crossed_eastriver    958048 non-null object\n",
      "rushhour             958048 non-null bool\n",
      "dtypes: bool(1), object(1)\n",
      "memory usage: 15.5+ MB\n"
     ]
    }
   ],
   "source": [
    "# A trip \"crossed the East River\" if it was between Manhattan & Brooklyn\n",
    "df_m['crossed_eastriver'] = df_m.apply(lambda z: 'yes' \n",
    "                                               if ((z.start_boro=='MN' and z.end_boro=='BK') or \n",
    "                                                   (z.start_boro=='BK' and z.end_boro=='MN'))\n",
    "                                              else 'no', axis=1)\n",
    "\n",
    "# Create a rushhour variable\n",
    "df_m[\"rushhour\"] = (df_m.starttime.dt.weekday <= 4)& ((df_m.starttime.dt.hour >= 7) & (df_m.starttime.dt.hour <= 10) | \\\n",
    "(df_m.starttime.dt.hour >= 16) & (df_m.starttime.dt.hour <= 19))\n",
    "\n",
    "# Take only the subset of trips made by subscribers\n",
    "sub = df_m[df_m.usertype == 'Subscriber']\n",
    "sub = sub[['crossed_eastriver', 'rushhour']]\n",
    "sub.info()"
   ]
  },
  {
   "cell_type": "code",
   "execution_count": 5,
   "metadata": {
    "collapsed": false
   },
   "outputs": [
    {
     "name": "stdout",
     "output_type": "stream",
     "text": [
      "crossed_eastriver      no    yes\n",
      "rushhour                        \n",
      "False              487409  16617\n",
      "True               436620  17402\n"
     ]
    }
   ],
   "source": [
    "# Count the trips for each category, creating our \"observed table\"\n",
    "obs = pd.crosstab(sub['rushhour'], sub['crossed_eastriver'], rownames=['rushhour'], colnames=['crossed_eastriver'])\n",
    "print obs"
   ]
  },
  {
   "cell_type": "code",
   "execution_count": 6,
   "metadata": {
    "collapsed": false
   },
   "outputs": [
    {
     "name": "stdout",
     "output_type": "stream",
     "text": [
      "chisq = 200.22, p = 1.87e-45 \n",
      "\n",
      "Is the p value 1.87e-45 smaller than the critical value 0.05?\n",
      "Yes\n",
      "We reject the Null hypothesis for this month\n"
     ]
    }
   ],
   "source": [
    "observed = obs.values\n",
    "\n",
    "# Perform chi-square test\n",
    "result = chi2_contingency(observed)\n",
    "chisq, p = result[:2]\n",
    "print 'chisq = {0:.2f}, p = {1:.2e} \\n'.format(chisq, p)\n",
    "\n",
    "alpha = 0.05\n",
    "def report_result(p,a):\n",
    "    print \"Is the p value {0:.2e} smaller than the critical value {1:.2f}?\".format(p,a)\n",
    "    if p < a:\n",
    "        print \"Yes\"\n",
    "    else: print \"No\"\n",
    "    \n",
    "    print 'We {} the Null hypothesis for this month'.format( 'reject' if p < a  else 'fail to reject') \n",
    "    \n",
    "report_result(p,alpha)"
   ]
  },
  {
   "cell_type": "markdown",
   "metadata": {},
   "source": [
    "For all the months that we tested (January, February, and June 2015), we were able to reject the Null hypothesis. This means that the probability that a citibike subscriber will take a trip crossing the East River is not independent of whether the trip is taken during rush-hour or not."
   ]
  },
  {
   "cell_type": "markdown",
   "metadata": {},
   "source": [
    "### Annex: Justification for rush-hour range\n"
   ]
  },
  {
   "cell_type": "code",
   "execution_count": 7,
   "metadata": {
    "collapsed": false
   },
   "outputs": [
    {
     "data": {
      "image/png": "[encoded data removed]",
      "text/plain": [
       "<matplotlib.figure.Figure at 0x7f465097eb50>"
      ]
     },
     "metadata": {},
     "output_type": "display_data"
    }
   ],
   "source": [
    "colors = [(31/255., 119/255., 180/255.), (127/255., 127/255., 127/255.)]\n",
    "\n",
    "plt.pie([sub[sub['rushhour'] == 1].count()[1], sub[sub['rushhour'] == 0].count()[1]],\n",
    "        labels=['Rush-Hour', 'Off Rush-Hour'],\n",
    "        colors=(colors[0], colors[1]), explode=(0,0.1),\n",
    "        autopct='%1.1f%%', startangle=90)\n",
    "# Set aspect ratio to be equal so that pie is drawn as a circle.\n",
    "plt.axis('equal')\n",
    "\n",
    "plt.show()"
   ]
  },
  {
   "cell_type": "markdown",
   "metadata": {},
   "source": [
    "For the months tested (January, April and August 2015), slightly more than half of the trips occured during the off rush-hour range that we defined (not between 7-9 am and 4-7pm)."
   ]
  }
 ],
 "metadata": {
  "kernelspec": {
   "display_name": "Python 2",
   "language": "python",
   "name": "python2"
  },
  "language_info": {
   "codemirror_mode": {
    "name": "ipython",
    "version": 2
   },
   "file_extension": ".py",
   "mimetype": "text/x-python",
   "name": "python",
   "nbconvert_exporter": "python",
   "pygments_lexer": "ipython2",
   "version": "2.7.10"
  }
 },
 "nbformat": 4,
 "nbformat_minor": 0
}
